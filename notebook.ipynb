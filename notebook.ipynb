{
 "cells": [
  {
   "cell_type": "code",
   "execution_count": 2,
   "metadata": {},
   "outputs": [],
   "source": [
    "import os\n",
    "import librosa\n",
    "import numpy as np\n",
    "import pandas as pd\n",
    "from tqdm.notebook import tqdm\n",
    "from sklearn.neighbors import KNeighborsClassifier\n",
    "from sklearn.naive_bayes import GaussianNB, BernoulliNB\n",
    "from sklearn import preprocessing\n",
    "from sklearn.metrics import accuracy_score, precision_score, recall_score, f1_score\n",
    "from sklearn.model_selection import train_test_split\n",
    "from sklearn.preprocessing import LabelBinarizer, StandardScaler\n",
    "import seaborn as sns\n",
    "from sklearn.metrics import confusion_matrix"
   ]
  },
  {
   "cell_type": "code",
   "execution_count": 3,
   "metadata": {},
   "outputs": [
    {
     "data": {
      "text/html": [
       "<div>\n",
       "<style scoped>\n",
       "    .dataframe tbody tr th:only-of-type {\n",
       "        vertical-align: middle;\n",
       "    }\n",
       "\n",
       "    .dataframe tbody tr th {\n",
       "        vertical-align: top;\n",
       "    }\n",
       "\n",
       "    .dataframe thead th {\n",
       "        text-align: right;\n",
       "    }\n",
       "</style>\n",
       "<table border=\"1\" class=\"dataframe\">\n",
       "  <thead>\n",
       "    <tr style=\"text-align: right;\">\n",
       "      <th></th>\n",
       "      <th>chroma_stft</th>\n",
       "      <th>rms</th>\n",
       "      <th>spectral_centroid</th>\n",
       "      <th>spectral_bandwidth</th>\n",
       "      <th>rolloff</th>\n",
       "      <th>zero_crossing_rate</th>\n",
       "      <th>mfcc1</th>\n",
       "      <th>mfcc2</th>\n",
       "      <th>mfcc3</th>\n",
       "      <th>mfcc4</th>\n",
       "      <th>...</th>\n",
       "      <th>mfcc13</th>\n",
       "      <th>mfcc14</th>\n",
       "      <th>mfcc15</th>\n",
       "      <th>mfcc16</th>\n",
       "      <th>mfcc17</th>\n",
       "      <th>mfcc18</th>\n",
       "      <th>mfcc19</th>\n",
       "      <th>mfcc20</th>\n",
       "      <th>origin_sample</th>\n",
       "      <th>LABEL</th>\n",
       "    </tr>\n",
       "  </thead>\n",
       "  <tbody>\n",
       "    <tr>\n",
       "      <th>0</th>\n",
       "      <td>0.375227</td>\n",
       "      <td>0.064563</td>\n",
       "      <td>2459.947357</td>\n",
       "      <td>2434.934003</td>\n",
       "      <td>5019.828288</td>\n",
       "      <td>0.124641</td>\n",
       "      <td>-349.60600</td>\n",
       "      <td>69.490540</td>\n",
       "      <td>-5.014993</td>\n",
       "      <td>9.292723</td>\n",
       "      <td>...</td>\n",
       "      <td>-8.939626</td>\n",
       "      <td>-0.228075</td>\n",
       "      <td>-3.724141</td>\n",
       "      <td>-2.760279</td>\n",
       "      <td>-7.130298</td>\n",
       "      <td>-2.885548</td>\n",
       "      <td>-3.816603</td>\n",
       "      <td>-4.658828</td>\n",
       "      <td>Obama-to-Biden</td>\n",
       "      <td>FAKE</td>\n",
       "    </tr>\n",
       "    <tr>\n",
       "      <th>1</th>\n",
       "      <td>0.265879</td>\n",
       "      <td>0.064633</td>\n",
       "      <td>1771.264906</td>\n",
       "      <td>2054.276087</td>\n",
       "      <td>3259.837850</td>\n",
       "      <td>0.079384</td>\n",
       "      <td>-309.35730</td>\n",
       "      <td>102.684265</td>\n",
       "      <td>-0.217040</td>\n",
       "      <td>6.763915</td>\n",
       "      <td>...</td>\n",
       "      <td>-10.282154</td>\n",
       "      <td>-5.383380</td>\n",
       "      <td>-8.223937</td>\n",
       "      <td>-6.031207</td>\n",
       "      <td>-11.122187</td>\n",
       "      <td>-4.667199</td>\n",
       "      <td>-3.794462</td>\n",
       "      <td>-6.131008</td>\n",
       "      <td>Obama-to-Biden</td>\n",
       "      <td>FAKE</td>\n",
       "    </tr>\n",
       "    <tr>\n",
       "      <th>2</th>\n",
       "      <td>0.344223</td>\n",
       "      <td>0.032006</td>\n",
       "      <td>2756.427453</td>\n",
       "      <td>2556.483794</td>\n",
       "      <td>5510.107422</td>\n",
       "      <td>0.151779</td>\n",
       "      <td>-395.46002</td>\n",
       "      <td>67.343710</td>\n",
       "      <td>1.611470</td>\n",
       "      <td>15.029048</td>\n",
       "      <td>...</td>\n",
       "      <td>-4.041812</td>\n",
       "      <td>0.001402</td>\n",
       "      <td>-3.974379</td>\n",
       "      <td>-1.699904</td>\n",
       "      <td>-4.618232</td>\n",
       "      <td>-1.402696</td>\n",
       "      <td>-1.930047</td>\n",
       "      <td>-2.451176</td>\n",
       "      <td>Obama-to-Biden</td>\n",
       "      <td>FAKE</td>\n",
       "    </tr>\n",
       "    <tr>\n",
       "      <th>3</th>\n",
       "      <td>0.467234</td>\n",
       "      <td>0.016750</td>\n",
       "      <td>2068.743872</td>\n",
       "      <td>2003.275673</td>\n",
       "      <td>3906.083171</td>\n",
       "      <td>0.113754</td>\n",
       "      <td>-368.99106</td>\n",
       "      <td>98.130714</td>\n",
       "      <td>-36.922684</td>\n",
       "      <td>-10.113725</td>\n",
       "      <td>...</td>\n",
       "      <td>-0.317975</td>\n",
       "      <td>0.102127</td>\n",
       "      <td>-1.771509</td>\n",
       "      <td>-5.013602</td>\n",
       "      <td>-5.357713</td>\n",
       "      <td>-0.996470</td>\n",
       "      <td>-3.404845</td>\n",
       "      <td>-3.700651</td>\n",
       "      <td>Obama-to-Biden</td>\n",
       "      <td>FAKE</td>\n",
       "    </tr>\n",
       "    <tr>\n",
       "      <th>4</th>\n",
       "      <td>0.369112</td>\n",
       "      <td>0.050818</td>\n",
       "      <td>2181.070240</td>\n",
       "      <td>2193.115139</td>\n",
       "      <td>4031.294759</td>\n",
       "      <td>0.116534</td>\n",
       "      <td>-348.53130</td>\n",
       "      <td>78.893265</td>\n",
       "      <td>-16.373130</td>\n",
       "      <td>-0.023123</td>\n",
       "      <td>...</td>\n",
       "      <td>-5.441096</td>\n",
       "      <td>-4.479549</td>\n",
       "      <td>-4.861004</td>\n",
       "      <td>-2.209938</td>\n",
       "      <td>-5.779118</td>\n",
       "      <td>-1.290936</td>\n",
       "      <td>-1.573276</td>\n",
       "      <td>-4.030232</td>\n",
       "      <td>Obama-to-Biden</td>\n",
       "      <td>FAKE</td>\n",
       "    </tr>\n",
       "  </tbody>\n",
       "</table>\n",
       "<p>5 rows × 28 columns</p>\n",
       "</div>"
      ],
      "text/plain": [
       "   chroma_stft       rms  spectral_centroid  spectral_bandwidth      rolloff  \\\n",
       "0     0.375227  0.064563        2459.947357         2434.934003  5019.828288   \n",
       "1     0.265879  0.064633        1771.264906         2054.276087  3259.837850   \n",
       "2     0.344223  0.032006        2756.427453         2556.483794  5510.107422   \n",
       "3     0.467234  0.016750        2068.743872         2003.275673  3906.083171   \n",
       "4     0.369112  0.050818        2181.070240         2193.115139  4031.294759   \n",
       "\n",
       "   zero_crossing_rate      mfcc1       mfcc2      mfcc3      mfcc4  ...  \\\n",
       "0            0.124641 -349.60600   69.490540  -5.014993   9.292723  ...   \n",
       "1            0.079384 -309.35730  102.684265  -0.217040   6.763915  ...   \n",
       "2            0.151779 -395.46002   67.343710   1.611470  15.029048  ...   \n",
       "3            0.113754 -368.99106   98.130714 -36.922684 -10.113725  ...   \n",
       "4            0.116534 -348.53130   78.893265 -16.373130  -0.023123  ...   \n",
       "\n",
       "      mfcc13    mfcc14    mfcc15    mfcc16     mfcc17    mfcc18    mfcc19  \\\n",
       "0  -8.939626 -0.228075 -3.724141 -2.760279  -7.130298 -2.885548 -3.816603   \n",
       "1 -10.282154 -5.383380 -8.223937 -6.031207 -11.122187 -4.667199 -3.794462   \n",
       "2  -4.041812  0.001402 -3.974379 -1.699904  -4.618232 -1.402696 -1.930047   \n",
       "3  -0.317975  0.102127 -1.771509 -5.013602  -5.357713 -0.996470 -3.404845   \n",
       "4  -5.441096 -4.479549 -4.861004 -2.209938  -5.779118 -1.290936 -1.573276   \n",
       "\n",
       "     mfcc20   origin_sample  LABEL  \n",
       "0 -4.658828  Obama-to-Biden   FAKE  \n",
       "1 -6.131008  Obama-to-Biden   FAKE  \n",
       "2 -2.451176  Obama-to-Biden   FAKE  \n",
       "3 -3.700651  Obama-to-Biden   FAKE  \n",
       "4 -4.030232  Obama-to-Biden   FAKE  \n",
       "\n",
       "[5 rows x 28 columns]"
      ]
     },
     "execution_count": 3,
     "metadata": {},
     "output_type": "execute_result"
    }
   ],
   "source": [
    "df = pd.read_csv(\"audio_features.csv\")\n",
    "df.head()"
   ]
  },
  {
   "cell_type": "code",
   "execution_count": 4,
   "metadata": {},
   "outputs": [],
   "source": [
    "X = df.iloc[:, :-2]\n",
    "y = df.iloc[:, -1]"
   ]
  },
  {
   "cell_type": "code",
   "execution_count": 5,
   "metadata": {},
   "outputs": [
    {
     "name": "stdout",
     "output_type": "stream",
     "text": [
      "Index(['chroma_stft', 'rms', 'spectral_centroid', 'spectral_bandwidth',\n",
      "       'rolloff', 'zero_crossing_rate', 'mfcc1', 'mfcc2', 'mfcc3', 'mfcc4',\n",
      "       'mfcc5', 'mfcc6', 'mfcc7', 'mfcc8', 'mfcc9', 'mfcc10', 'mfcc11',\n",
      "       'mfcc12', 'mfcc13', 'mfcc14', 'mfcc15', 'mfcc16', 'mfcc17', 'mfcc18',\n",
      "       'mfcc19', 'mfcc20'],\n",
      "      dtype='object')\n"
     ]
    }
   ],
   "source": [
    "print(X.columns)"
   ]
  },
  {
   "cell_type": "code",
   "execution_count": 6,
   "metadata": {},
   "outputs": [
    {
     "name": "stdout",
     "output_type": "stream",
     "text": [
      "0       FAKE\n",
      "1       FAKE\n",
      "2       FAKE\n",
      "3       FAKE\n",
      "4       FAKE\n",
      "        ... \n",
      "6000    REAL\n",
      "6001    REAL\n",
      "6002    REAL\n",
      "6003    REAL\n",
      "6004    REAL\n",
      "Name: LABEL, Length: 6005, dtype: object\n"
     ]
    }
   ],
   "source": [
    "print(y)"
   ]
  },
  {
   "cell_type": "code",
   "execution_count": 7,
   "metadata": {},
   "outputs": [
    {
     "name": "stdout",
     "output_type": "stream",
     "text": [
      "[0 0 0 ... 1 1 1]\n"
     ]
    }
   ],
   "source": [
    "lb = preprocessing.LabelBinarizer()\n",
    "y = lb.fit_transform(y)\n",
    "y = y.ravel()\n",
    "print(y)"
   ]
  },
  {
   "cell_type": "code",
   "execution_count": 8,
   "metadata": {},
   "outputs": [],
   "source": [
    "X_train,X_Test,Y_train,y_test = train_test_split(X,y,test_size=0.2,stratify=y,random_state=42)"
   ]
  },
  {
   "cell_type": "code",
   "execution_count": 9,
   "metadata": {},
   "outputs": [],
   "source": [
    "scaler=StandardScaler()\n",
    "X_train_std=scaler.fit_transform(X_train)\n",
    "X_Test_std=scaler.transform(X_Test)"
   ]
  },
  {
   "cell_type": "code",
   "execution_count": 10,
   "metadata": {},
   "outputs": [
    {
     "name": "stdout",
     "output_type": "stream",
     "text": [
      "0    4200\n",
      "1     604\n",
      "Name: count, dtype: int64\n"
     ]
    }
   ],
   "source": [
    "Y_train_series = pd.Series(Y_train)\n",
    "print(Y_train_series.value_counts())"
   ]
  },
  {
   "cell_type": "code",
   "execution_count": 16,
   "metadata": {},
   "outputs": [
    {
     "data": {
      "text/html": [
       "<style>#sk-container-id-2 {color: black;}#sk-container-id-2 pre{padding: 0;}#sk-container-id-2 div.sk-toggleable {background-color: white;}#sk-container-id-2 label.sk-toggleable__label {cursor: pointer;display: block;width: 100%;margin-bottom: 0;padding: 0.3em;box-sizing: border-box;text-align: center;}#sk-container-id-2 label.sk-toggleable__label-arrow:before {content: \"▸\";float: left;margin-right: 0.25em;color: #696969;}#sk-container-id-2 label.sk-toggleable__label-arrow:hover:before {color: black;}#sk-container-id-2 div.sk-estimator:hover label.sk-toggleable__label-arrow:before {color: black;}#sk-container-id-2 div.sk-toggleable__content {max-height: 0;max-width: 0;overflow: hidden;text-align: left;background-color: #f0f8ff;}#sk-container-id-2 div.sk-toggleable__content pre {margin: 0.2em;color: black;border-radius: 0.25em;background-color: #f0f8ff;}#sk-container-id-2 input.sk-toggleable__control:checked~div.sk-toggleable__content {max-height: 200px;max-width: 100%;overflow: auto;}#sk-container-id-2 input.sk-toggleable__control:checked~label.sk-toggleable__label-arrow:before {content: \"▾\";}#sk-container-id-2 div.sk-estimator input.sk-toggleable__control:checked~label.sk-toggleable__label {background-color: #d4ebff;}#sk-container-id-2 div.sk-label input.sk-toggleable__control:checked~label.sk-toggleable__label {background-color: #d4ebff;}#sk-container-id-2 input.sk-hidden--visually {border: 0;clip: rect(1px 1px 1px 1px);clip: rect(1px, 1px, 1px, 1px);height: 1px;margin: -1px;overflow: hidden;padding: 0;position: absolute;width: 1px;}#sk-container-id-2 div.sk-estimator {font-family: monospace;background-color: #f0f8ff;border: 1px dotted black;border-radius: 0.25em;box-sizing: border-box;margin-bottom: 0.5em;}#sk-container-id-2 div.sk-estimator:hover {background-color: #d4ebff;}#sk-container-id-2 div.sk-parallel-item::after {content: \"\";width: 100%;border-bottom: 1px solid gray;flex-grow: 1;}#sk-container-id-2 div.sk-label:hover label.sk-toggleable__label {background-color: #d4ebff;}#sk-container-id-2 div.sk-serial::before {content: \"\";position: absolute;border-left: 1px solid gray;box-sizing: border-box;top: 0;bottom: 0;left: 50%;z-index: 0;}#sk-container-id-2 div.sk-serial {display: flex;flex-direction: column;align-items: center;background-color: white;padding-right: 0.2em;padding-left: 0.2em;position: relative;}#sk-container-id-2 div.sk-item {position: relative;z-index: 1;}#sk-container-id-2 div.sk-parallel {display: flex;align-items: stretch;justify-content: center;background-color: white;position: relative;}#sk-container-id-2 div.sk-item::before, #sk-container-id-2 div.sk-parallel-item::before {content: \"\";position: absolute;border-left: 1px solid gray;box-sizing: border-box;top: 0;bottom: 0;left: 50%;z-index: -1;}#sk-container-id-2 div.sk-parallel-item {display: flex;flex-direction: column;z-index: 1;position: relative;background-color: white;}#sk-container-id-2 div.sk-parallel-item:first-child::after {align-self: flex-end;width: 50%;}#sk-container-id-2 div.sk-parallel-item:last-child::after {align-self: flex-start;width: 50%;}#sk-container-id-2 div.sk-parallel-item:only-child::after {width: 0;}#sk-container-id-2 div.sk-dashed-wrapped {border: 1px dashed gray;margin: 0 0.4em 0.5em 0.4em;box-sizing: border-box;padding-bottom: 0.4em;background-color: white;}#sk-container-id-2 div.sk-label label {font-family: monospace;font-weight: bold;display: inline-block;line-height: 1.2em;}#sk-container-id-2 div.sk-label-container {text-align: center;}#sk-container-id-2 div.sk-container {/* jupyter's `normalize.less` sets `[hidden] { display: none; }` but bootstrap.min.css set `[hidden] { display: none !important; }` so we also need the `!important` here to be able to override the default hidden behavior on the sphinx rendered scikit-learn.org. See: https://github.com/scikit-learn/scikit-learn/issues/21755 */display: inline-block !important;position: relative;}#sk-container-id-2 div.sk-text-repr-fallback {display: none;}</style><div id=\"sk-container-id-2\" class=\"sk-top-container\"><div class=\"sk-text-repr-fallback\"><pre>KNeighborsClassifier()</pre><b>In a Jupyter environment, please rerun this cell to show the HTML representation or trust the notebook. <br />On GitHub, the HTML representation is unable to render, please try loading this page with nbviewer.org.</b></div><div class=\"sk-container\" hidden><div class=\"sk-item\"><div class=\"sk-estimator sk-toggleable\"><input class=\"sk-toggleable__control sk-hidden--visually\" id=\"sk-estimator-id-2\" type=\"checkbox\" checked><label for=\"sk-estimator-id-2\" class=\"sk-toggleable__label sk-toggleable__label-arrow\">KNeighborsClassifier</label><div class=\"sk-toggleable__content\"><pre>KNeighborsClassifier()</pre></div></div></div></div></div>"
      ],
      "text/plain": [
       "KNeighborsClassifier()"
      ]
     },
     "execution_count": 16,
     "metadata": {},
     "output_type": "execute_result"
    }
   ],
   "source": [
    "model = KNeighborsClassifier(n_neighbors=5,p=2)#99.3,Euclidean distance\n",
    "#model =KNeighborsClassifier(n_neighbors=3,P=1) #99.2 ,Manhattan distance\n",
    "#model = BernoulliNB() # 90.3\n",
    "\n",
    "model.fit(X_train_std, Y_train)"
   ]
  },
  {
   "cell_type": "code",
   "execution_count": 17,
   "metadata": {},
   "outputs": [
    {
     "name": "stdout",
     "output_type": "stream",
     "text": [
      "Accuracy: 99.3\n",
      "Precision: 100.0\n",
      "Recall: 94.0\n",
      "F1-Score: 96.89999999999999\n"
     ]
    }
   ],
   "source": [
    "pred_values = model.predict(X_Test_std)\n",
    "\n",
    "# Evaluate the model\n",
    "acc = accuracy_score(y_test, pred_values)\n",
    "prec = precision_score(y_test,pred_values)\n",
    "rec = recall_score(y_test,pred_values)\n",
    "f1 = f1_score(y_test,pred_values)\n",
    "\n",
    "# Print evaluation metrics\n",
    "print(\"Accuracy:\", round(acc, 3) * 100)\n",
    "print(\"Precision:\", round(prec, 3) * 100)\n",
    "print(\"Recall:\", round(rec, 3) * 100)\n",
    "print(\"F1-Score:\", round(f1, 3)*100)"
   ]
  },
  {
   "cell_type": "code",
   "execution_count": 18,
   "metadata": {},
   "outputs": [
    {
     "name": "stdout",
     "output_type": "stream",
     "text": [
      "[1]\n"
     ]
    },
    {
     "name": "stderr",
     "output_type": "stream",
     "text": [
      "c:\\Users\\manis\\AppData\\Local\\Programs\\Python\\Python310\\lib\\site-packages\\sklearn\\base.py:465: UserWarning: X does not have valid feature names, but StandardScaler was fitted with feature names\n",
      "  warnings.warn(\n"
     ]
    }
   ],
   "source": [
    "input_data=(0.4090154,0.0625356,2108.50052,1916.23644,3762.179565,0.12310791,-254.82565,123.88423,-2.9245548,23.45007,10.104989,-1.8787591,1.3757514,-0.61563754,-5.957731,5.6874523,-8.361018,1.6729586,-0.1934279,5.821897,1.7073617,-0.88956475,1.2821686,5.3945336,-2.107336,-1.0151453\n",
    ")\n",
    "\n",
    "input_data_as_numpy_array = np.asarray(input_data)\n",
    "input_data_reshaped = input_data_as_numpy_array.reshape(1,-1)\n",
    "std_data = scaler.transform(input_data_reshaped)\n",
    "\n",
    "prediction = model.predict(std_data)\n",
    "print(prediction)"
   ]
  },
  {
   "cell_type": "code",
   "execution_count": 19,
   "metadata": {},
   "outputs": [
    {
     "name": "stdout",
     "output_type": "stream",
     "text": [
      "[0]\n"
     ]
    },
    {
     "name": "stderr",
     "output_type": "stream",
     "text": [
      "c:\\Users\\manis\\AppData\\Local\\Programs\\Python\\Python310\\lib\\site-packages\\sklearn\\base.py:465: UserWarning: X does not have valid feature names, but StandardScaler was fitted with feature names\n",
      "  warnings.warn(\n"
     ]
    }
   ],
   "source": [
    "input_data2=(4.0100627,4.0100627,4.0100627,4.0100627,4.0100627,4.0100627,4.0100627,4.0100627,4.0100627,4.0100627,4.0100627,\t4.0100627,4.0100627,4.0100627,4.0100627,4.0100627,4.0100627,4.0100627,4.0100627,4.0100627,4.0100627,4.0100627,4.0100627,4.0100627,4.0100627,4.0100627\n",
    ")\n",
    "input_data_as_numpy_array2= np.asarray(input_data2)\n",
    "input_data_reshaped2= input_data_as_numpy_array2.reshape(1,-1)\n",
    "std_data2= scaler.transform(input_data_reshaped2)\n",
    "\n",
    "prediction2= model.predict(std_data2)\n",
    "print(prediction2)"
   ]
  },
  {
   "cell_type": "code",
   "execution_count": 20,
   "metadata": {},
   "outputs": [
    {
     "data": {
      "text/plain": [
       "<Axes: >"
      ]
     },
     "execution_count": 20,
     "metadata": {},
     "output_type": "execute_result"
    },
    {
     "data": {
      "image/png": "[encoded data removed]",
      "text/plain": [
       "<Figure size 640x480 with 2 Axes>"
      ]
     },
     "metadata": {},
     "output_type": "display_data"
    }
   ],
   "source": [
    "cf_matrix = confusion_matrix(y_test,pred_values)\n",
    "tn, fp, fn, tp = cf_matrix.ravel()\n",
    "sns.heatmap(cf_matrix, annot=True)"
   ]
  }
 ],
 "metadata": {
  "kernelspec": {
   "display_name": "Python 3",
   "language": "python",
   "name": "python3"
  },
  "language_info": {
   "codemirror_mode": {
    "name": "ipython",
    "version": 3
   },
   "file_extension": ".py",
   "mimetype": "text/x-python",
   "name": "python",
   "nbconvert_exporter": "python",
   "pygments_lexer": "ipython3",
   "version": "3.10.7"
  }
 },
 "nbformat": 4,
 "nbformat_minor": 2
}

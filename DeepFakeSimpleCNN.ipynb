{
  "nbformat": 4,
  "nbformat_minor": 0,
  "metadata": {
    "colab": {
      "provenance": []
    },
    "kernelspec": {
      "name": "python3",
      "display_name": "Python 3"
    },
    "language_info": {
      "name": "python"
    }
  },
  "cells": [
    {
      "cell_type": "code",
      "execution_count": null,
      "metadata": {
        "colab": {
          "base_uri": "https://localhost:8080/"
        },
        "id": "UH2jqBFOmGB9",
        "outputId": "9fffdfc1-95e6-4471-adc7-2d5940cc26c1"
      },
      "outputs": [
        {
          "output_type": "stream",
          "name": "stdout",
          "text": [
            "Mounted at /content/drive\n"
          ]
        }
      ],
      "source": [
        "from google.colab import drive\n",
        "drive.mount('/content/drive')"
      ]
    },
    {
      "cell_type": "code",
      "source": [
        "!pip install tensorflow"
      ],
      "metadata": {
        "colab": {
          "base_uri": "https://localhost:8080/"
        },
        "id": "KcBZMLCdmhCb",
        "outputId": "0b3e4e30-cdbb-4050-ce55-4fbbd7df446c"
      },
      "execution_count": null,
      "outputs": [
        {
          "output_type": "stream",
          "name": "stdout",
          "text": [
            "Requirement already satisfied: tensorflow in /usr/local/lib/python3.10/dist-packages (2.15.0)\n",
            "Requirement already satisfied: absl-py>=1.0.0 in /usr/local/lib/python3.10/dist-packages (from tensorflow) (1.4.0)\n",
            "Requirement already satisfied: astunparse>=1.6.0 in /usr/local/lib/python3.10/dist-packages (from tensorflow) (1.6.3)\n",
            "Requirement already satisfied: flatbuffers>=23.5.26 in /usr/local/lib/python3.10/dist-packages (from tensorflow) (23.5.26)\n",
            "Requirement already satisfied: gast!=0.5.0,!=0.5.1,!=0.5.2,>=0.2.1 in /usr/local/lib/python3.10/dist-packages (from tensorflow) (0.5.4)\n",
            "Requirement already satisfied: google-pasta>=0.1.1 in /usr/local/lib/python3.10/dist-packages (from tensorflow) (0.2.0)\n",
            "Requirement already satisfied: h5py>=2.9.0 in /usr/local/lib/python3.10/dist-packages (from tensorflow) (3.9.0)\n",
            "Requirement already satisfied: libclang>=13.0.0 in /usr/local/lib/python3.10/dist-packages (from tensorflow) (16.0.6)\n",
            "Requirement already satisfied: ml-dtypes~=0.2.0 in /usr/local/lib/python3.10/dist-packages (from tensorflow) (0.2.0)\n",
            "Requirement already satisfied: numpy<2.0.0,>=1.23.5 in /usr/local/lib/python3.10/dist-packages (from tensorflow) (1.23.5)\n",
            "Requirement already satisfied: opt-einsum>=2.3.2 in /usr/local/lib/python3.10/dist-packages (from tensorflow) (3.3.0)\n",
            "Requirement already satisfied: packaging in /usr/local/lib/python3.10/dist-packages (from tensorflow) (23.2)\n",
            "Requirement already satisfied: protobuf!=4.21.0,!=4.21.1,!=4.21.2,!=4.21.3,!=4.21.4,!=4.21.5,<5.0.0dev,>=3.20.3 in /usr/local/lib/python3.10/dist-packages (from tensorflow) (3.20.3)\n",
            "Requirement already satisfied: setuptools in /usr/local/lib/python3.10/dist-packages (from tensorflow) (67.7.2)\n",
            "Requirement already satisfied: six>=1.12.0 in /usr/local/lib/python3.10/dist-packages (from tensorflow) (1.16.0)\n",
            "Requirement already satisfied: termcolor>=1.1.0 in /usr/local/lib/python3.10/dist-packages (from tensorflow) (2.4.0)\n",
            "Requirement already satisfied: typing-extensions>=3.6.6 in /usr/local/lib/python3.10/dist-packages (from tensorflow) (4.5.0)\n",
            "Requirement already satisfied: wrapt<1.15,>=1.11.0 in /usr/local/lib/python3.10/dist-packages (from tensorflow) (1.14.1)\n",
            "Requirement already satisfied: tensorflow-io-gcs-filesystem>=0.23.1 in /usr/local/lib/python3.10/dist-packages (from tensorflow) (0.35.0)\n",
            "Requirement already satisfied: grpcio<2.0,>=1.24.3 in /usr/local/lib/python3.10/dist-packages (from tensorflow) (1.60.0)\n",
            "Requirement already satisfied: tensorboard<2.16,>=2.15 in /usr/local/lib/python3.10/dist-packages (from tensorflow) (2.15.1)\n",
            "Requirement already satisfied: tensorflow-estimator<2.16,>=2.15.0 in /usr/local/lib/python3.10/dist-packages (from tensorflow) (2.15.0)\n",
            "Requirement already satisfied: keras<2.16,>=2.15.0 in /usr/local/lib/python3.10/dist-packages (from tensorflow) (2.15.0)\n",
            "Requirement already satisfied: wheel<1.0,>=0.23.0 in /usr/local/lib/python3.10/dist-packages (from astunparse>=1.6.0->tensorflow) (0.42.0)\n",
            "Requirement already satisfied: google-auth<3,>=1.6.3 in /usr/local/lib/python3.10/dist-packages (from tensorboard<2.16,>=2.15->tensorflow) (2.17.3)\n",
            "Requirement already satisfied: google-auth-oauthlib<2,>=0.5 in /usr/local/lib/python3.10/dist-packages (from tensorboard<2.16,>=2.15->tensorflow) (1.2.0)\n",
            "Requirement already satisfied: markdown>=2.6.8 in /usr/local/lib/python3.10/dist-packages (from tensorboard<2.16,>=2.15->tensorflow) (3.5.2)\n",
            "Requirement already satisfied: requests<3,>=2.21.0 in /usr/local/lib/python3.10/dist-packages (from tensorboard<2.16,>=2.15->tensorflow) (2.31.0)\n",
            "Requirement already satisfied: tensorboard-data-server<0.8.0,>=0.7.0 in /usr/local/lib/python3.10/dist-packages (from tensorboard<2.16,>=2.15->tensorflow) (0.7.2)\n",
            "Requirement already satisfied: werkzeug>=1.0.1 in /usr/local/lib/python3.10/dist-packages (from tensorboard<2.16,>=2.15->tensorflow) (3.0.1)\n",
            "Requirement already satisfied: cachetools<6.0,>=2.0.0 in /usr/local/lib/python3.10/dist-packages (from google-auth<3,>=1.6.3->tensorboard<2.16,>=2.15->tensorflow) (5.3.2)\n",
            "Requirement already satisfied: pyasn1-modules>=0.2.1 in /usr/local/lib/python3.10/dist-packages (from google-auth<3,>=1.6.3->tensorboard<2.16,>=2.15->tensorflow) (0.3.0)\n",
            "Requirement already satisfied: rsa<5,>=3.1.4 in /usr/local/lib/python3.10/dist-packages (from google-auth<3,>=1.6.3->tensorboard<2.16,>=2.15->tensorflow) (4.9)\n",
            "Requirement already satisfied: requests-oauthlib>=0.7.0 in /usr/local/lib/python3.10/dist-packages (from google-auth-oauthlib<2,>=0.5->tensorboard<2.16,>=2.15->tensorflow) (1.3.1)\n",
            "Requirement already satisfied: charset-normalizer<4,>=2 in /usr/local/lib/python3.10/dist-packages (from requests<3,>=2.21.0->tensorboard<2.16,>=2.15->tensorflow) (3.3.2)\n",
            "Requirement already satisfied: idna<4,>=2.5 in /usr/local/lib/python3.10/dist-packages (from requests<3,>=2.21.0->tensorboard<2.16,>=2.15->tensorflow) (3.6)\n",
            "Requirement already satisfied: urllib3<3,>=1.21.1 in /usr/local/lib/python3.10/dist-packages (from requests<3,>=2.21.0->tensorboard<2.16,>=2.15->tensorflow) (2.0.7)\n",
            "Requirement already satisfied: certifi>=2017.4.17 in /usr/local/lib/python3.10/dist-packages (from requests<3,>=2.21.0->tensorboard<2.16,>=2.15->tensorflow) (2023.11.17)\n",
            "Requirement already satisfied: MarkupSafe>=2.1.1 in /usr/local/lib/python3.10/dist-packages (from werkzeug>=1.0.1->tensorboard<2.16,>=2.15->tensorflow) (2.1.3)\n",
            "Requirement already satisfied: pyasn1<0.6.0,>=0.4.6 in /usr/local/lib/python3.10/dist-packages (from pyasn1-modules>=0.2.1->google-auth<3,>=1.6.3->tensorboard<2.16,>=2.15->tensorflow) (0.5.1)\n",
            "Requirement already satisfied: oauthlib>=3.0.0 in /usr/local/lib/python3.10/dist-packages (from requests-oauthlib>=0.7.0->google-auth-oauthlib<2,>=0.5->tensorboard<2.16,>=2.15->tensorflow) (3.2.2)\n"
          ]
        }
      ]
    },
    {
      "cell_type": "code",
      "source": [
        "import numpy as np\n",
        "import pandas as pd\n",
        "from sklearn.model_selection import train_test_split\n",
        "from sklearn.preprocessing import LabelEncoder\n",
        "from sklearn.metrics import accuracy_score\n",
        "from tensorflow.keras.models import Sequential\n",
        "from tensorflow.keras.layers import Conv1D, MaxPooling1D, Flatten, Dense, Dropout, BatchNormalization\n",
        "from tensorflow.keras.utils import to_categorical\n",
        "\n",
        "# Load the dataset\n",
        "csv_output_path = 'drive/MyDrive/KAGGLE/DATASET-balanced.csv'\n",
        "dataset = pd.read_csv(csv_output_path)\n",
        "\n",
        "# Encode the labels\n",
        "label_encoder = LabelEncoder()\n",
        "dataset['LABEL'] = label_encoder.fit_transform(dataset['LABEL'])\n",
        "\n",
        "# Split the dataset into features (X) and labels (y)\n",
        "X = dataset.iloc[:, :-2].values  # Exclude 'origin_sample' and 'LABEL'\n",
        "y = dataset['LABEL'].values  # Use labels directly without to_categorical\n",
        "\n",
        "# Split the dataset into training and testing sets\n",
        "X_train, X_test, y_train, y_test = train_test_split(X, y, test_size=0.2, random_state=42)\n",
        "\n",
        "# Reshape the features to match the input shape expected by CNN\n",
        "X_train = X_train.reshape(X_train.shape[0], X_train.shape[1], 1)\n",
        "X_test = X_test.reshape(X_test.shape[0], X_test.shape[1], 1)\n",
        "\n",
        "# Create the CNN model\n",
        "# Example: Adding more convolutional layers, dropout, and batch normalization\n",
        "\n",
        "model = Sequential()\n",
        "model.add(Conv1D(filters=64, kernel_size=3, activation='relu', input_shape=(X_train.shape[1], 1)))\n",
        "model.add(MaxPooling1D(pool_size=2))\n",
        "model.add(Conv1D(filters=128, kernel_size=3, activation='relu'))\n",
        "model.add(MaxPooling1D(pool_size=2))\n",
        "model.add(Conv1D(filters=256, kernel_size=3, activation='relu'))\n",
        "model.add(MaxPooling1D(pool_size=2))\n",
        "model.add(Flatten())\n",
        "model.add(Dense(128, activation='relu'))\n",
        "model.add(Dropout(0.5))\n",
        "model.add(BatchNormalization())\n",
        "model.add(Dense(1, activation='sigmoid'))\n",
        "\n",
        "model.compile(optimizer='adam', loss='binary_crossentropy', metrics=['accuracy'])\n",
        "# Train the model\n",
        "model.fit(X_train, y_train, epochs=20, batch_size=32, validation_data=(X_test, y_test))\n",
        "\n",
        "\n",
        "# Evaluate the model\n",
        "y_pred = (model.predict(X_test) > 0.5).astype(\"int32\")\n",
        "accuracy = accuracy_score(y_test, y_pred)\n",
        "print(f'Test Accuracy: {accuracy * 100:.2f}%')\n",
        "\n"
      ],
      "metadata": {
        "colab": {
          "base_uri": "https://localhost:8080/"
        },
        "id": "x-l04oKpmHaF",
        "outputId": "94190e4d-9e47-46b2-fd89-d851bf529e46"
      },
      "execution_count": null,
      "outputs": [
        {
          "output_type": "stream",
          "name": "stdout",
          "text": [
            "Epoch 1/20\n",
            "295/295 [==============================] - 7s 12ms/step - loss: 0.7094 - accuracy: 0.5533 - val_loss: 0.6856 - val_accuracy: 0.4754\n",
            "Epoch 2/20\n",
            "295/295 [==============================] - 3s 10ms/step - loss: 0.6206 - accuracy: 0.6762 - val_loss: 0.8064 - val_accuracy: 0.4915\n",
            "Epoch 3/20\n",
            "295/295 [==============================] - 3s 10ms/step - loss: 0.4404 - accuracy: 0.8190 - val_loss: 0.3916 - val_accuracy: 0.8328\n",
            "Epoch 4/20\n",
            "295/295 [==============================] - 5s 15ms/step - loss: 0.3513 - accuracy: 0.8611 - val_loss: 0.3053 - val_accuracy: 0.8854\n",
            "Epoch 5/20\n",
            "295/295 [==============================] - 4s 14ms/step - loss: 0.4210 - accuracy: 0.8241 - val_loss: 0.4186 - val_accuracy: 0.8294\n",
            "Epoch 6/20\n",
            "295/295 [==============================] - 3s 11ms/step - loss: 0.3583 - accuracy: 0.8595 - val_loss: 0.3713 - val_accuracy: 0.8519\n",
            "Epoch 7/20\n",
            "295/295 [==============================] - 3s 11ms/step - loss: 0.2944 - accuracy: 0.8830 - val_loss: 0.2843 - val_accuracy: 0.8748\n",
            "Epoch 8/20\n",
            "295/295 [==============================] - 4s 14ms/step - loss: 0.2611 - accuracy: 0.8992 - val_loss: 0.2468 - val_accuracy: 0.9024\n",
            "Epoch 9/20\n",
            "295/295 [==============================] - 4s 15ms/step - loss: 0.2797 - accuracy: 0.8920 - val_loss: 0.3348 - val_accuracy: 0.8676\n",
            "Epoch 10/20\n",
            "295/295 [==============================] - 3s 11ms/step - loss: 0.2265 - accuracy: 0.9137 - val_loss: 0.1510 - val_accuracy: 0.9508\n",
            "Epoch 11/20\n",
            "295/295 [==============================] - 4s 13ms/step - loss: 0.1828 - accuracy: 0.9314 - val_loss: 0.1913 - val_accuracy: 0.9257\n",
            "Epoch 12/20\n",
            "295/295 [==============================] - 5s 19ms/step - loss: 0.1570 - accuracy: 0.9431 - val_loss: 0.1013 - val_accuracy: 0.9690\n",
            "Epoch 13/20\n",
            "295/295 [==============================] - 5s 16ms/step - loss: 0.1246 - accuracy: 0.9549 - val_loss: 0.1609 - val_accuracy: 0.9393\n",
            "Epoch 14/20\n",
            "295/295 [==============================] - 3s 10ms/step - loss: 0.1390 - accuracy: 0.9493 - val_loss: 0.0902 - val_accuracy: 0.9699\n",
            "Epoch 15/20\n",
            "295/295 [==============================] - 3s 10ms/step - loss: 0.1226 - accuracy: 0.9565 - val_loss: 0.0801 - val_accuracy: 0.9733\n",
            "Epoch 16/20\n",
            "295/295 [==============================] - 3s 10ms/step - loss: 0.1439 - accuracy: 0.9474 - val_loss: 0.0999 - val_accuracy: 0.9643\n",
            "Epoch 17/20\n",
            "295/295 [==============================] - 4s 15ms/step - loss: 0.1099 - accuracy: 0.9619 - val_loss: 0.0863 - val_accuracy: 0.9682\n",
            "Epoch 18/20\n",
            "295/295 [==============================] - 4s 12ms/step - loss: 0.0966 - accuracy: 0.9650 - val_loss: 0.1597 - val_accuracy: 0.9444\n",
            "Epoch 19/20\n",
            "295/295 [==============================] - 3s 10ms/step - loss: 0.1008 - accuracy: 0.9631 - val_loss: 0.1597 - val_accuracy: 0.9448\n",
            "Epoch 20/20\n",
            "295/295 [==============================] - 3s 10ms/step - loss: 0.1020 - accuracy: 0.9629 - val_loss: 0.1037 - val_accuracy: 0.9626\n",
            "74/74 [==============================] - 0s 4ms/step\n",
            "Test Accuracy: 96.26%\n"
          ]
        }
      ]
    },
    {
      "cell_type": "code",
      "source": [],
      "metadata": {
        "id": "SZ6PQUqkmmS6"
      },
      "execution_count": null,
      "outputs": []
    }
  ]
}
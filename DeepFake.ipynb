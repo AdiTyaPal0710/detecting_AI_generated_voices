{
  "nbformat": 4,
  "nbformat_minor": 0,
  "metadata": {
    "colab": {
      "provenance": [],
      "gpuType": "T4"
    },
    "kernelspec": {
      "name": "python3",
      "display_name": "Python 3"
    },
    "language_info": {
      "name": "python"
    },
    "widgets": {
      "application/vnd.jupyter.widget-state+json": {
        "60c4ecff4e3d44eabbf79467f0a4b146": {
          "model_module": "@jupyter-widgets/controls",
          "model_name": "HBoxModel",
          "model_module_version": "1.5.0",
          "state": {
            "_dom_classes": [],
            "_model_module": "@jupyter-widgets/controls",
            "_model_module_version": "1.5.0",
            "_model_name": "HBoxModel",
            "_view_count": null,
            "_view_module": "@jupyter-widgets/controls",
            "_view_module_version": "1.5.0",
            "_view_name": "HBoxView",
            "box_style": "",
            "children": [
              "IPY_MODEL_d745086a35504f8ab4196254858a2b4d",
              "IPY_MODEL_dfc61e34c33942f1abc7812a2f6e98db",
              "IPY_MODEL_dcef0ba56b0b4144a88f4fc372e149e7"
            ],
            "layout": "IPY_MODEL_2a354b96fb9142c6a6bf1e0079893346"
          }
        },
        "d745086a35504f8ab4196254858a2b4d": {
          "model_module": "@jupyter-widgets/controls",
          "model_name": "HTMLModel",
          "model_module_version": "1.5.0",
          "state": {
            "_dom_classes": [],
            "_model_module": "@jupyter-widgets/controls",
            "_model_module_version": "1.5.0",
            "_model_name": "HTMLModel",
            "_view_count": null,
            "_view_module": "@jupyter-widgets/controls",
            "_view_module_version": "1.5.0",
            "_view_name": "HTMLView",
            "description": "",
            "description_tooltip": null,
            "layout": "IPY_MODEL_b819ca91fb87433298e0f576e506ac10",
            "placeholder": "​",
            "style": "IPY_MODEL_f04707de3cc44a4f898239053696facd",
            "value": " Files Progress: 100%"
          }
        },
        "dfc61e34c33942f1abc7812a2f6e98db": {
          "model_module": "@jupyter-widgets/controls",
          "model_name": "FloatProgressModel",
          "model_module_version": "1.5.0",
          "state": {
            "_dom_classes": [],
            "_model_module": "@jupyter-widgets/controls",
            "_model_module_version": "1.5.0",
            "_model_name": "FloatProgressModel",
            "_view_count": null,
            "_view_module": "@jupyter-widgets/controls",
            "_view_module_version": "1.5.0",
            "_view_name": "ProgressView",
            "bar_style": "success",
            "description": "",
            "description_tooltip": null,
            "layout": "IPY_MODEL_6b15ef438b544105aa3bc3a99e8014d9",
            "max": 2,
            "min": 0,
            "orientation": "horizontal",
            "style": "IPY_MODEL_502e46f463ac441f926f0dd9bc81f175",
            "value": 2
          }
        },
        "dcef0ba56b0b4144a88f4fc372e149e7": {
          "model_module": "@jupyter-widgets/controls",
          "model_name": "HTMLModel",
          "model_module_version": "1.5.0",
          "state": {
            "_dom_classes": [],
            "_model_module": "@jupyter-widgets/controls",
            "_model_module_version": "1.5.0",
            "_model_name": "HTMLModel",
            "_view_count": null,
            "_view_module": "@jupyter-widgets/controls",
            "_view_module_version": "1.5.0",
            "_view_name": "HTMLView",
            "description": "",
            "description_tooltip": null,
            "layout": "IPY_MODEL_6108a775594846d590a8c4f96b222907",
            "placeholder": "​",
            "style": "IPY_MODEL_aac4ef3a43d1438d93fb2df7fa6da1bc",
            "value": " 2/2 [00:02&lt;00:00,  1.13s/it]"
          }
        },
        "2a354b96fb9142c6a6bf1e0079893346": {
          "model_module": "@jupyter-widgets/base",
          "model_name": "LayoutModel",
          "model_module_version": "1.2.0",
          "state": {
            "_model_module": "@jupyter-widgets/base",
            "_model_module_version": "1.2.0",
            "_model_name": "LayoutModel",
            "_view_count": null,
            "_view_module": "@jupyter-widgets/base",
            "_view_module_version": "1.2.0",
            "_view_name": "LayoutView",
            "align_content": null,
            "align_items": null,
            "align_self": null,
            "border": null,
            "bottom": null,
            "display": null,
            "flex": null,
            "flex_flow": null,
            "grid_area": null,
            "grid_auto_columns": null,
            "grid_auto_flow": null,
            "grid_auto_rows": null,
            "grid_column": null,
            "grid_gap": null,
            "grid_row": null,
            "grid_template_areas": null,
            "grid_template_columns": null,
            "grid_template_rows": null,
            "height": null,
            "justify_content": null,
            "justify_items": null,
            "left": null,
            "margin": null,
            "max_height": null,
            "max_width": null,
            "min_height": null,
            "min_width": null,
            "object_fit": null,
            "object_position": null,
            "order": null,
            "overflow": null,
            "overflow_x": null,
            "overflow_y": null,
            "padding": null,
            "right": null,
            "top": null,
            "visibility": null,
            "width": null
          }
        },
        "b819ca91fb87433298e0f576e506ac10": {
          "model_module": "@jupyter-widgets/base",
          "model_name": "LayoutModel",
          "model_module_version": "1.2.0",
          "state": {
            "_model_module": "@jupyter-widgets/base",
            "_model_module_version": "1.2.0",
            "_model_name": "LayoutModel",
            "_view_count": null,
            "_view_module": "@jupyter-widgets/base",
            "_view_module_version": "1.2.0",
            "_view_name": "LayoutView",
            "align_content": null,
            "align_items": null,
            "align_self": null,
            "border": null,
            "bottom": null,
            "display": null,
            "flex": null,
            "flex_flow": null,
            "grid_area": null,
            "grid_auto_columns": null,
            "grid_auto_flow": null,
            "grid_auto_rows": null,
            "grid_column": null,
            "grid_gap": null,
            "grid_row": null,
            "grid_template_areas": null,
            "grid_template_columns": null,
            "grid_template_rows": null,
            "height": null,
            "justify_content": null,
            "justify_items": null,
            "left": null,
            "margin": null,
            "max_height": null,
            "max_width": null,
            "min_height": null,
            "min_width": null,
            "object_fit": null,
            "object_position": null,
            "order": null,
            "overflow": null,
            "overflow_x": null,
            "overflow_y": null,
            "padding": null,
            "right": null,
            "top": null,
            "visibility": null,
            "width": null
          }
        },
        "f04707de3cc44a4f898239053696facd": {
          "model_module": "@jupyter-widgets/controls",
          "model_name": "DescriptionStyleModel",
          "model_module_version": "1.5.0",
          "state": {
            "_model_module": "@jupyter-widgets/controls",
            "_model_module_version": "1.5.0",
            "_model_name": "DescriptionStyleModel",
            "_view_count": null,
            "_view_module": "@jupyter-widgets/base",
            "_view_module_version": "1.2.0",
            "_view_name": "StyleView",
            "description_width": ""
          }
        },
        "6b15ef438b544105aa3bc3a99e8014d9": {
          "model_module": "@jupyter-widgets/base",
          "model_name": "LayoutModel",
          "model_module_version": "1.2.0",
          "state": {
            "_model_module": "@jupyter-widgets/base",
            "_model_module_version": "1.2.0",
            "_model_name": "LayoutModel",
            "_view_count": null,
            "_view_module": "@jupyter-widgets/base",
            "_view_module_version": "1.2.0",
            "_view_name": "LayoutView",
            "align_content": null,
            "align_items": null,
            "align_self": null,
            "border": null,
            "bottom": null,
            "display": null,
            "flex": null,
            "flex_flow": null,
            "grid_area": null,
            "grid_auto_columns": null,
            "grid_auto_flow": null,
            "grid_auto_rows": null,
            "grid_column": null,
            "grid_gap": null,
            "grid_row": null,
            "grid_template_areas": null,
            "grid_template_columns": null,
            "grid_template_rows": null,
            "height": null,
            "justify_content": null,
            "justify_items": null,
            "left": null,
            "margin": null,
            "max_height": null,
            "max_width": null,
            "min_height": null,
            "min_width": null,
            "object_fit": null,
            "object_position": null,
            "order": null,
            "overflow": null,
            "overflow_x": null,
            "overflow_y": null,
            "padding": null,
            "right": null,
            "top": null,
            "visibility": null,
            "width": null
          }
        },
        "502e46f463ac441f926f0dd9bc81f175": {
          "model_module": "@jupyter-widgets/controls",
          "model_name": "ProgressStyleModel",
          "model_module_version": "1.5.0",
          "state": {
            "_model_module": "@jupyter-widgets/controls",
            "_model_module_version": "1.5.0",
            "_model_name": "ProgressStyleModel",
            "_view_count": null,
            "_view_module": "@jupyter-widgets/base",
            "_view_module_version": "1.2.0",
            "_view_name": "StyleView",
            "bar_color": null,
            "description_width": ""
          }
        },
        "6108a775594846d590a8c4f96b222907": {
          "model_module": "@jupyter-widgets/base",
          "model_name": "LayoutModel",
          "model_module_version": "1.2.0",
          "state": {
            "_model_module": "@jupyter-widgets/base",
            "_model_module_version": "1.2.0",
            "_model_name": "LayoutModel",
            "_view_count": null,
            "_view_module": "@jupyter-widgets/base",
            "_view_module_version": "1.2.0",
            "_view_name": "LayoutView",
            "align_content": null,
            "align_items": null,
            "align_self": null,
            "border": null,
            "bottom": null,
            "display": null,
            "flex": null,
            "flex_flow": null,
            "grid_area": null,
            "grid_auto_columns": null,
            "grid_auto_flow": null,
            "grid_auto_rows": null,
            "grid_column": null,
            "grid_gap": null,
            "grid_row": null,
            "grid_template_areas": null,
            "grid_template_columns": null,
            "grid_template_rows": null,
            "height": null,
            "justify_content": null,
            "justify_items": null,
            "left": null,
            "margin": null,
            "max_height": null,
            "max_width": null,
            "min_height": null,
            "min_width": null,
            "object_fit": null,
            "object_position": null,
            "order": null,
            "overflow": null,
            "overflow_x": null,
            "overflow_y": null,
            "padding": null,
            "right": null,
            "top": null,
            "visibility": null,
            "width": null
          }
        },
        "aac4ef3a43d1438d93fb2df7fa6da1bc": {
          "model_module": "@jupyter-widgets/controls",
          "model_name": "DescriptionStyleModel",
          "model_module_version": "1.5.0",
          "state": {
            "_model_module": "@jupyter-widgets/controls",
            "_model_module_version": "1.5.0",
            "_model_name": "DescriptionStyleModel",
            "_view_count": null,
            "_view_module": "@jupyter-widgets/base",
            "_view_module_version": "1.2.0",
            "_view_name": "StyleView",
            "description_width": ""
          }
        }
      }
    },
    "accelerator": "GPU"
  },
  "cells": [
    {
      "cell_type": "code",
      "execution_count": null,
      "metadata": {
        "id": "C2PMes42xsUJ"
      },
      "outputs": [],
      "source": [
        "import os\n",
        "import librosa\n",
        "import numpy as np\n",
        "import pandas as pd\n",
        "from tqdm.notebook import tqdm"
      ]
    },
    {
      "cell_type": "code",
      "source": [
        "# Function to extract features from an audio file\n",
        "def extract_features(file_path, segment_length, file_name):\n",
        "    try:\n",
        "        # Load the audio file\n",
        "        y, sr = librosa.load(file_path)\n",
        "        print(\"sr: \"+ str(sr))\n",
        "        # Calculate the number of segments based on the segment length and audio length\n",
        "        num_segments = int(np.ceil(len(y) / float(segment_length * sr)))\n",
        "        print(\"num_segments: \"+ str(num_segments))\n",
        "        # Initialize a list to store the features for this file\n",
        "        features = []\n",
        "\n",
        "        # Extract features for each segment\n",
        "        for i in range(num_segments):\n",
        "            # Calculate start and end frame for the current segment\n",
        "            start_frame = i * segment_length * sr\n",
        "            end_frame = min(len(y), (i + 1) * segment_length * sr)\n",
        "            # Extract audio for this segment\n",
        "            y_segment = y[start_frame:end_frame]\n",
        "\n",
        "            # Extract features\n",
        "            chroma_stft = np.mean(librosa.feature.chroma_stft(y=y_segment, sr=sr))\n",
        "            rms = np.mean(librosa.feature.rms(y=y_segment))\n",
        "            spec_cent = np.mean(librosa.feature.spectral_centroid(y=y_segment, sr=sr))\n",
        "            spec_bw = np.mean(librosa.feature.spectral_bandwidth(y=y_segment, sr=sr))\n",
        "            rolloff = np.mean(librosa.feature.spectral_rolloff(y=y_segment, sr=sr))\n",
        "            zcr = np.mean(librosa.feature.zero_crossing_rate(y_segment))\n",
        "            mfccs = librosa.feature.mfcc(y=y_segment, sr=sr)\n",
        "            mfccs_mean = np.mean(mfccs, axis=1)\n",
        "\n",
        "            # Append the extracted features to the list\n",
        "            features.append([chroma_stft, rms, spec_cent, spec_bw, rolloff, zcr, *mfccs_mean, file_name])\n",
        "\n",
        "        return features\n",
        "    except Exception as e:\n",
        "        print(f\"Error processing {file_path}: {e}\")\n",
        "        return None"
      ],
      "metadata": {
        "id": "QpkJICiOyJfg"
      },
      "execution_count": null,
      "outputs": []
    },
    {
      "cell_type": "code",
      "source": [
        "# Function to create the dataset\n",
        "def create_dataset(audio_dir, segment_length):\n",
        "    labels = ['FAKE', 'REAL']\n",
        "    feature_list = []\n",
        "\n",
        "    # Iterate over all files in the audio_dir\n",
        "    for label in labels:\n",
        "        print(f'Processing {label} files...')\n",
        "        files = os.listdir(os.path.join(audio_dir, label))\n",
        "        # Wrap the files iterable with tqdm to show the progress bar\n",
        "        for file in tqdm(files, desc=f\"{label} Files Progress\"):\n",
        "            file_path = os.path.join(audio_dir, label, file)\n",
        "            # Extract the file name without the extension\n",
        "            file_name = os.path.splitext(file)[0]\n",
        "            # Extract features for the current file\n",
        "            file_features = extract_features(file_path, segment_length, file_name)\n",
        "            if file_features:\n",
        "                # Append features of all segments along with the label to the dataset\n",
        "                for segment_features in file_features:\n",
        "                    feature_list.append(segment_features + [label])\n",
        "\n",
        "    # Create a DataFrame with the dataset\n",
        "    df = pd.DataFrame(feature_list, columns=['chroma_stft', 'rms', 'spectral_centroid', 'spectral_bandwidth', 'rolloff', 'zero_crossing_rate', 'mfcc1', 'mfcc2', 'mfcc3', 'mfcc4', 'mfcc5', 'mfcc6', 'mfcc7', 'mfcc8', 'mfcc9', 'mfcc10', 'mfcc11', 'mfcc12', 'mfcc13', 'mfcc14', 'mfcc15', 'mfcc16', 'mfcc17', 'mfcc18', 'mfcc19', 'mfcc20', 'origin_sample', 'LABEL'])\n",
        "\n",
        "    return df"
      ],
      "metadata": {
        "id": "RN3OInXByVg6"
      },
      "execution_count": null,
      "outputs": []
    },
    {
      "cell_type": "code",
      "source": [
        "from google.colab import drive\n",
        "drive.mount('/content/drive')"
      ],
      "metadata": {
        "colab": {
          "base_uri": "https://localhost:8080/"
        },
        "id": "IPz1Vxrby_gR",
        "outputId": "cff35262-5c03-4935-b53d-9b2b5c1da78c"
      },
      "execution_count": null,
      "outputs": [
        {
          "output_type": "stream",
          "name": "stdout",
          "text": [
            "Mounted at /content/drive\n"
          ]
        }
      ]
    },
    {
      "cell_type": "code",
      "source": [
        "# Directory where the 'FAKE' and 'REAL' folders are located\n",
        "audio_dir = 'drive/MyDrive/KAGGLE/AUDIO'\n",
        "\n",
        "# Length of the audio segments in seconds\n",
        "segment_length = 5  # for example, 5 seconds\n",
        "\n",
        "# Create the dataset\n",
        "dataset = create_dataset(audio_dir, segment_length)\n",
        "\n",
        "# Save the dataset to a CSV file\n",
        "csv_output_path = 'audio_features1.csv'\n",
        "dataset.to_csv(csv_output_path, index=False)\n",
        "\n",
        "print(f'Dataset created and saved to {csv_output_path}')"
      ],
      "metadata": {
        "id": "77q1gP4OZSGH"
      },
      "execution_count": null,
      "outputs": []
    },
    {
      "cell_type": "code",
      "source": [
        "# Function to create the dataset\n",
        "def create_dataset_test(audio_dir, segment_length):\n",
        "    #labels = ['FAKE', 'REAL']\n",
        "    feature_list = []\n",
        "\n",
        "    # Iterate over all files in the audio_dir\n",
        "    #for label in labels:\n",
        "        #print(f'Processing {label} files...')\n",
        "        #files = os.listdir(os.path.join(audio_dir, label))\n",
        "    files = os.listdir(audio_dir)\n",
        "        # Wrap the files iterable with tqdm to show the progress bar\n",
        "    for file in tqdm(files, desc=\" Files Progress\"):\n",
        "            file_path = os.path.join(audio_dir, file)\n",
        "            # Extract the file name without the extension\n",
        "            file_name = os.path.splitext(file)[0]\n",
        "            # Extract features for the current file\n",
        "            file_features = extract_features(file_path, segment_length, file_name)\n",
        "            if file_features:\n",
        "                # Append features of all segments along with the label to the dataset\n",
        "                for segment_features in file_features:\n",
        "                    feature_list.append(segment_features)\n",
        "\n",
        "    # Create a DataFrame with the dataset\n",
        "    df = pd.DataFrame(feature_list, columns=['chroma_stft', 'rms', 'spectral_centroid', 'spectral_bandwidth', 'rolloff', 'zero_crossing_rate', 'mfcc1', 'mfcc2', 'mfcc3', 'mfcc4', 'mfcc5', 'mfcc6', 'mfcc7', 'mfcc8', 'mfcc9', 'mfcc10', 'mfcc11', 'mfcc12', 'mfcc13', 'mfcc14', 'mfcc15', 'mfcc16', 'mfcc17', 'mfcc18', 'mfcc19', 'mfcc20', 'origin_sample'])\n",
        "\n",
        "    return df"
      ],
      "metadata": {
        "id": "II2PcGd4A_P9"
      },
      "execution_count": null,
      "outputs": []
    },
    {
      "cell_type": "code",
      "source": [
        "# Directory where the 'FAKE' and 'REAL' folders are located\n",
        "audio_dir = 'drive/MyDrive/DEMONSTRATION/DEMONSTRATION'\n",
        "\n",
        "# Length of the audio segments in seconds\n",
        "segment_length = 5  # for example, 5 seconds\n",
        "\n",
        "# Create the dataset\n",
        "dataset = create_dataset_test(audio_dir, segment_length)\n",
        "\n",
        "# Save the dataset to a CSV file\n",
        "csv_output_path = 'audio_test.csv'\n",
        "dataset.to_csv(csv_output_path, index=False)\n",
        "\n",
        "print(f'Dataset created and saved to {csv_output_path}')"
      ],
      "metadata": {
        "colab": {
          "base_uri": "https://localhost:8080/",
          "height": 67,
          "referenced_widgets": [
            "60c4ecff4e3d44eabbf79467f0a4b146",
            "d745086a35504f8ab4196254858a2b4d",
            "dfc61e34c33942f1abc7812a2f6e98db",
            "dcef0ba56b0b4144a88f4fc372e149e7",
            "2a354b96fb9142c6a6bf1e0079893346",
            "b819ca91fb87433298e0f576e506ac10",
            "f04707de3cc44a4f898239053696facd",
            "6b15ef438b544105aa3bc3a99e8014d9",
            "502e46f463ac441f926f0dd9bc81f175",
            "6108a775594846d590a8c4f96b222907",
            "aac4ef3a43d1438d93fb2df7fa6da1bc"
          ]
        },
        "id": "MWNu8dUIAcP-",
        "outputId": "43404dd6-04a9-46b0-bd0f-555138c531ae"
      },
      "execution_count": null,
      "outputs": [
        {
          "output_type": "display_data",
          "data": {
            "text/plain": [
              " Files Progress:   0%|          | 0/2 [00:00<?, ?it/s]"
            ],
            "application/vnd.jupyter.widget-view+json": {
              "version_major": 2,
              "version_minor": 0,
              "model_id": "60c4ecff4e3d44eabbf79467f0a4b146"
            }
          },
          "metadata": {}
        },
        {
          "output_type": "stream",
          "name": "stdout",
          "text": [
            "Dataset created and saved to audio_test.csv\n"
          ]
        }
      ]
    },
    {
      "cell_type": "code",
      "source": [],
      "metadata": {
        "id": "bq6i5_WP_9u3"
      },
      "execution_count": null,
      "outputs": []
    }
  ]
}
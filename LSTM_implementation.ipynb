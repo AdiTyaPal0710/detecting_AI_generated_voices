{
  "cells": [
    {
      "cell_type": "code",
      "execution_count": null,
      "metadata": {
        "id": "3cMwBc_Kuk2i"
      },
      "outputs": [],
      "source": [
        "import pandas as pd\n",
        "import numpy as np"
      ]
    },
    {
      "cell_type": "code",
      "execution_count": null,
      "metadata": {
        "id": "jI599l6CnpNY"
      },
      "outputs": [],
      "source": [
        "data_path = \"/content/drive/MyDrive/deepfake/KAGGLE/DATASET-balanced.csv\"\n",
        "\n",
        "audio_data = pd.read_csv(data_path)"
      ]
    },
    {
      "cell_type": "code",
      "execution_count": null,
      "metadata": {
        "id": "b0UNbBvx9qNe"
      },
      "outputs": [],
      "source": [
        "from sklearn.model_selection import train_test_split\n",
        "from sklearn.preprocessing import LabelEncoder"
      ]
    },
    {
      "cell_type": "code",
      "execution_count": null,
      "metadata": {
        "id": "4rf1lRej9STe"
      },
      "outputs": [],
      "source": [
        "label_encoder = LabelEncoder()\n",
        "audio_data['LABEL'] = label_encoder.fit_transform(audio_data['LABEL'])"
      ]
    },
    {
      "cell_type": "code",
      "execution_count": null,
      "metadata": {
        "colab": {
          "base_uri": "https://localhost:8080/",
          "height": 255
        },
        "id": "uw6Lw6hpvSk5",
        "outputId": "0475eed8-8c61-41bd-e1bc-c411f79717a7"
      },
      "outputs": [
        {
          "data": {
            "text/html": [
              "\n",
              "  <div id=\"df-aada8e45-fc8e-4532-9dd9-4567c50c3252\" class=\"colab-df-container\">\n",
              "    <div>\n",
              "<style scoped>\n",
              "    .dataframe tbody tr th:only-of-type {\n",
              "        vertical-align: middle;\n",
              "    }\n",
              "\n",
              "    .dataframe tbody tr th {\n",
              "        vertical-align: top;\n",
              "    }\n",
              "\n",
              "    .dataframe thead th {\n",
              "        text-align: right;\n",
              "    }\n",
              "</style>\n",
              "<table border=\"1\" class=\"dataframe\">\n",
              "  <thead>\n",
              "    <tr style=\"text-align: right;\">\n",
              "      <th></th>\n",
              "      <th>chroma_stft</th>\n",
              "      <th>rms</th>\n",
              "      <th>spectral_centroid</th>\n",
              "      <th>spectral_bandwidth</th>\n",
              "      <th>rolloff</th>\n",
              "      <th>zero_crossing_rate</th>\n",
              "      <th>mfcc1</th>\n",
              "      <th>mfcc2</th>\n",
              "      <th>mfcc3</th>\n",
              "      <th>mfcc4</th>\n",
              "      <th>...</th>\n",
              "      <th>mfcc12</th>\n",
              "      <th>mfcc13</th>\n",
              "      <th>mfcc14</th>\n",
              "      <th>mfcc15</th>\n",
              "      <th>mfcc16</th>\n",
              "      <th>mfcc17</th>\n",
              "      <th>mfcc18</th>\n",
              "      <th>mfcc19</th>\n",
              "      <th>mfcc20</th>\n",
              "      <th>LABEL</th>\n",
              "    </tr>\n",
              "  </thead>\n",
              "  <tbody>\n",
              "    <tr>\n",
              "      <th>0</th>\n",
              "      <td>0.338055</td>\n",
              "      <td>0.027948</td>\n",
              "      <td>2842.948867</td>\n",
              "      <td>4322.916759</td>\n",
              "      <td>6570.586186</td>\n",
              "      <td>0.041050</td>\n",
              "      <td>-462.169586</td>\n",
              "      <td>90.311272</td>\n",
              "      <td>19.073769</td>\n",
              "      <td>24.046888</td>\n",
              "      <td>...</td>\n",
              "      <td>-6.686564</td>\n",
              "      <td>0.902086</td>\n",
              "      <td>-7.251551</td>\n",
              "      <td>-1.198342</td>\n",
              "      <td>4.747403</td>\n",
              "      <td>-4.986279</td>\n",
              "      <td>0.953935</td>\n",
              "      <td>-5.013138</td>\n",
              "      <td>-6.779060</td>\n",
              "      <td>0</td>\n",
              "    </tr>\n",
              "    <tr>\n",
              "      <th>1</th>\n",
              "      <td>0.443766</td>\n",
              "      <td>0.037838</td>\n",
              "      <td>2336.129597</td>\n",
              "      <td>3445.777044</td>\n",
              "      <td>3764.949874</td>\n",
              "      <td>0.047730</td>\n",
              "      <td>-409.413422</td>\n",
              "      <td>120.348808</td>\n",
              "      <td>-7.161531</td>\n",
              "      <td>5.114784</td>\n",
              "      <td>...</td>\n",
              "      <td>-2.131157</td>\n",
              "      <td>-6.876417</td>\n",
              "      <td>-1.359395</td>\n",
              "      <td>0.326401</td>\n",
              "      <td>-5.420016</td>\n",
              "      <td>-2.109968</td>\n",
              "      <td>-1.757634</td>\n",
              "      <td>-9.537907</td>\n",
              "      <td>-8.494421</td>\n",
              "      <td>0</td>\n",
              "    </tr>\n",
              "    <tr>\n",
              "      <th>2</th>\n",
              "      <td>0.302528</td>\n",
              "      <td>0.056578</td>\n",
              "      <td>2692.988386</td>\n",
              "      <td>2861.133180</td>\n",
              "      <td>4716.610271</td>\n",
              "      <td>0.080342</td>\n",
              "      <td>-318.996033</td>\n",
              "      <td>120.490273</td>\n",
              "      <td>-24.625771</td>\n",
              "      <td>23.891073</td>\n",
              "      <td>...</td>\n",
              "      <td>-5.853725</td>\n",
              "      <td>-3.724773</td>\n",
              "      <td>-6.627182</td>\n",
              "      <td>-5.117002</td>\n",
              "      <td>-6.072106</td>\n",
              "      <td>-0.994653</td>\n",
              "      <td>-1.617120</td>\n",
              "      <td>-3.922354</td>\n",
              "      <td>-7.033001</td>\n",
              "      <td>0</td>\n",
              "    </tr>\n",
              "    <tr>\n",
              "      <th>3</th>\n",
              "      <td>0.319933</td>\n",
              "      <td>0.031504</td>\n",
              "      <td>2241.665382</td>\n",
              "      <td>3503.766175</td>\n",
              "      <td>3798.641521</td>\n",
              "      <td>0.047180</td>\n",
              "      <td>-404.636749</td>\n",
              "      <td>136.320908</td>\n",
              "      <td>2.308172</td>\n",
              "      <td>-3.907071</td>\n",
              "      <td>...</td>\n",
              "      <td>-1.898315</td>\n",
              "      <td>-2.046493</td>\n",
              "      <td>-7.176277</td>\n",
              "      <td>-3.293508</td>\n",
              "      <td>4.209121</td>\n",
              "      <td>0.121835</td>\n",
              "      <td>-5.407063</td>\n",
              "      <td>-3.654926</td>\n",
              "      <td>-3.274857</td>\n",
              "      <td>0</td>\n",
              "    </tr>\n",
              "    <tr>\n",
              "      <th>4</th>\n",
              "      <td>0.420055</td>\n",
              "      <td>0.016158</td>\n",
              "      <td>2526.069123</td>\n",
              "      <td>3102.659519</td>\n",
              "      <td>5025.077899</td>\n",
              "      <td>0.051905</td>\n",
              "      <td>-410.497925</td>\n",
              "      <td>152.731400</td>\n",
              "      <td>-18.266771</td>\n",
              "      <td>51.993462</td>\n",
              "      <td>...</td>\n",
              "      <td>-1.952340</td>\n",
              "      <td>0.810868</td>\n",
              "      <td>6.238493</td>\n",
              "      <td>6.555839</td>\n",
              "      <td>7.535542</td>\n",
              "      <td>2.849219</td>\n",
              "      <td>2.616843</td>\n",
              "      <td>-1.793357</td>\n",
              "      <td>-5.060998</td>\n",
              "      <td>0</td>\n",
              "    </tr>\n",
              "  </tbody>\n",
              "</table>\n",
              "<p>5 rows × 27 columns</p>\n",
              "</div>\n",
              "    <div class=\"colab-df-buttons\">\n",
              "\n",
              "  <div class=\"colab-df-container\">\n",
              "    <button class=\"colab-df-convert\" onclick=\"convertToInteractive('df-aada8e45-fc8e-4532-9dd9-4567c50c3252')\"\n",
              "            title=\"Convert this dataframe to an interactive table.\"\n",
              "            style=\"display:none;\">\n",
              "\n",
              "  <svg xmlns=\"http://www.w3.org/2000/svg\" height=\"24px\" viewBox=\"0 -960 960 960\">\n",
              "    <path d=\"M120-120v-720h720v720H120Zm60-500h600v-160H180v160Zm220 220h160v-160H400v160Zm0 220h160v-160H400v160ZM180-400h160v-160H180v160Zm440 0h160v-160H620v160ZM180-180h160v-160H180v160Zm440 0h160v-160H620v160Z\"/>\n",
              "  </svg>\n",
              "    </button>\n",
              "\n",
              "  <style>\n",
              "    .colab-df-container {\n",
              "      display:flex;\n",
              "      gap: 12px;\n",
              "    }\n",
              "\n",
              "    .colab-df-convert {\n",
              "      background-color: #E8F0FE;\n",
              "      border: none;\n",
              "      border-radius: 50%;\n",
              "      cursor: pointer;\n",
              "      display: none;\n",
              "      fill: #1967D2;\n",
              "      height: 32px;\n",
              "      padding: 0 0 0 0;\n",
              "      width: 32px;\n",
              "    }\n",
              "\n",
              "    .colab-df-convert:hover {\n",
              "      background-color: #E2EBFA;\n",
              "      box-shadow: 0px 1px 2px rgba(60, 64, 67, 0.3), 0px 1px 3px 1px rgba(60, 64, 67, 0.15);\n",
              "      fill: #174EA6;\n",
              "    }\n",
              "\n",
              "    .colab-df-buttons div {\n",
              "      margin-bottom: 4px;\n",
              "    }\n",
              "\n",
              "    [theme=dark] .colab-df-convert {\n",
              "      background-color: #3B4455;\n",
              "      fill: #D2E3FC;\n",
              "    }\n",
              "\n",
              "    [theme=dark] .colab-df-convert:hover {\n",
              "      background-color: #434B5C;\n",
              "      box-shadow: 0px 1px 3px 1px rgba(0, 0, 0, 0.15);\n",
              "      filter: drop-shadow(0px 1px 2px rgba(0, 0, 0, 0.3));\n",
              "      fill: #FFFFFF;\n",
              "    }\n",
              "  </style>\n",
              "\n",
              "    <script>\n",
              "      const buttonEl =\n",
              "        document.querySelector('#df-aada8e45-fc8e-4532-9dd9-4567c50c3252 button.colab-df-convert');\n",
              "      buttonEl.style.display =\n",
              "        google.colab.kernel.accessAllowed ? 'block' : 'none';\n",
              "\n",
              "      async function convertToInteractive(key) {\n",
              "        const element = document.querySelector('#df-aada8e45-fc8e-4532-9dd9-4567c50c3252');\n",
              "        const dataTable =\n",
              "          await google.colab.kernel.invokeFunction('convertToInteractive',\n",
              "                                                    [key], {});\n",
              "        if (!dataTable) return;\n",
              "\n",
              "        const docLinkHtml = 'Like what you see? Visit the ' +\n",
              "          '<a target=\"_blank\" href=https://colab.research.google.com/notebooks/data_table.ipynb>data table notebook</a>'\n",
              "          + ' to learn more about interactive tables.';\n",
              "        element.innerHTML = '';\n",
              "        dataTable['output_type'] = 'display_data';\n",
              "        await google.colab.output.renderOutput(dataTable, element);\n",
              "        const docLink = document.createElement('div');\n",
              "        docLink.innerHTML = docLinkHtml;\n",
              "        element.appendChild(docLink);\n",
              "      }\n",
              "    </script>\n",
              "  </div>\n",
              "\n",
              "\n",
              "<div id=\"df-a0ecb0ed-c8c1-402c-8270-eed5d40715d5\">\n",
              "  <button class=\"colab-df-quickchart\" onclick=\"quickchart('df-a0ecb0ed-c8c1-402c-8270-eed5d40715d5')\"\n",
              "            title=\"Suggest charts\"\n",
              "            style=\"display:none;\">\n",
              "\n",
              "<svg xmlns=\"http://www.w3.org/2000/svg\" height=\"24px\"viewBox=\"0 0 24 24\"\n",
              "     width=\"24px\">\n",
              "    <g>\n",
              "        <path d=\"M19 3H5c-1.1 0-2 .9-2 2v14c0 1.1.9 2 2 2h14c1.1 0 2-.9 2-2V5c0-1.1-.9-2-2-2zM9 17H7v-7h2v7zm4 0h-2V7h2v10zm4 0h-2v-4h2v4z\"/>\n",
              "    </g>\n",
              "</svg>\n",
              "  </button>\n",
              "\n",
              "<style>\n",
              "  .colab-df-quickchart {\n",
              "      --bg-color: #E8F0FE;\n",
              "      --fill-color: #1967D2;\n",
              "      --hover-bg-color: #E2EBFA;\n",
              "      --hover-fill-color: #174EA6;\n",
              "      --disabled-fill-color: #AAA;\n",
              "      --disabled-bg-color: #DDD;\n",
              "  }\n",
              "\n",
              "  [theme=dark] .colab-df-quickchart {\n",
              "      --bg-color: #3B4455;\n",
              "      --fill-color: #D2E3FC;\n",
              "      --hover-bg-color: #434B5C;\n",
              "      --hover-fill-color: #FFFFFF;\n",
              "      --disabled-bg-color: #3B4455;\n",
              "      --disabled-fill-color: #666;\n",
              "  }\n",
              "\n",
              "  .colab-df-quickchart {\n",
              "    background-color: var(--bg-color);\n",
              "    border: none;\n",
              "    border-radius: 50%;\n",
              "    cursor: pointer;\n",
              "    display: none;\n",
              "    fill: var(--fill-color);\n",
              "    height: 32px;\n",
              "    padding: 0;\n",
              "    width: 32px;\n",
              "  }\n",
              "\n",
              "  .colab-df-quickchart:hover {\n",
              "    background-color: var(--hover-bg-color);\n",
              "    box-shadow: 0 1px 2px rgba(60, 64, 67, 0.3), 0 1px 3px 1px rgba(60, 64, 67, 0.15);\n",
              "    fill: var(--button-hover-fill-color);\n",
              "  }\n",
              "\n",
              "  .colab-df-quickchart-complete:disabled,\n",
              "  .colab-df-quickchart-complete:disabled:hover {\n",
              "    background-color: var(--disabled-bg-color);\n",
              "    fill: var(--disabled-fill-color);\n",
              "    box-shadow: none;\n",
              "  }\n",
              "\n",
              "  .colab-df-spinner {\n",
              "    border: 2px solid var(--fill-color);\n",
              "    border-color: transparent;\n",
              "    border-bottom-color: var(--fill-color);\n",
              "    animation:\n",
              "      spin 1s steps(1) infinite;\n",
              "  }\n",
              "\n",
              "  @keyframes spin {\n",
              "    0% {\n",
              "      border-color: transparent;\n",
              "      border-bottom-color: var(--fill-color);\n",
              "      border-left-color: var(--fill-color);\n",
              "    }\n",
              "    20% {\n",
              "      border-color: transparent;\n",
              "      border-left-color: var(--fill-color);\n",
              "      border-top-color: var(--fill-color);\n",
              "    }\n",
              "    30% {\n",
              "      border-color: transparent;\n",
              "      border-left-color: var(--fill-color);\n",
              "      border-top-color: var(--fill-color);\n",
              "      border-right-color: var(--fill-color);\n",
              "    }\n",
              "    40% {\n",
              "      border-color: transparent;\n",
              "      border-right-color: var(--fill-color);\n",
              "      border-top-color: var(--fill-color);\n",
              "    }\n",
              "    60% {\n",
              "      border-color: transparent;\n",
              "      border-right-color: var(--fill-color);\n",
              "    }\n",
              "    80% {\n",
              "      border-color: transparent;\n",
              "      border-right-color: var(--fill-color);\n",
              "      border-bottom-color: var(--fill-color);\n",
              "    }\n",
              "    90% {\n",
              "      border-color: transparent;\n",
              "      border-bottom-color: var(--fill-color);\n",
              "    }\n",
              "  }\n",
              "</style>\n",
              "\n",
              "  <script>\n",
              "    async function quickchart(key) {\n",
              "      const quickchartButtonEl =\n",
              "        document.querySelector('#' + key + ' button');\n",
              "      quickchartButtonEl.disabled = true;  // To prevent multiple clicks.\n",
              "      quickchartButtonEl.classList.add('colab-df-spinner');\n",
              "      try {\n",
              "        const charts = await google.colab.kernel.invokeFunction(\n",
              "            'suggestCharts', [key], {});\n",
              "      } catch (error) {\n",
              "        console.error('Error during call to suggestCharts:', error);\n",
              "      }\n",
              "      quickchartButtonEl.classList.remove('colab-df-spinner');\n",
              "      quickchartButtonEl.classList.add('colab-df-quickchart-complete');\n",
              "    }\n",
              "    (() => {\n",
              "      let quickchartButtonEl =\n",
              "        document.querySelector('#df-a0ecb0ed-c8c1-402c-8270-eed5d40715d5 button');\n",
              "      quickchartButtonEl.style.display =\n",
              "        google.colab.kernel.accessAllowed ? 'block' : 'none';\n",
              "    })();\n",
              "  </script>\n",
              "</div>\n",
              "\n",
              "    </div>\n",
              "  </div>\n"
            ],
            "text/plain": [
              "   chroma_stft       rms  spectral_centroid  spectral_bandwidth      rolloff  \\\n",
              "0     0.338055  0.027948        2842.948867         4322.916759  6570.586186   \n",
              "1     0.443766  0.037838        2336.129597         3445.777044  3764.949874   \n",
              "2     0.302528  0.056578        2692.988386         2861.133180  4716.610271   \n",
              "3     0.319933  0.031504        2241.665382         3503.766175  3798.641521   \n",
              "4     0.420055  0.016158        2526.069123         3102.659519  5025.077899   \n",
              "\n",
              "   zero_crossing_rate       mfcc1       mfcc2      mfcc3      mfcc4  ...  \\\n",
              "0            0.041050 -462.169586   90.311272  19.073769  24.046888  ...   \n",
              "1            0.047730 -409.413422  120.348808  -7.161531   5.114784  ...   \n",
              "2            0.080342 -318.996033  120.490273 -24.625771  23.891073  ...   \n",
              "3            0.047180 -404.636749  136.320908   2.308172  -3.907071  ...   \n",
              "4            0.051905 -410.497925  152.731400 -18.266771  51.993462  ...   \n",
              "\n",
              "     mfcc12    mfcc13    mfcc14    mfcc15    mfcc16    mfcc17    mfcc18  \\\n",
              "0 -6.686564  0.902086 -7.251551 -1.198342  4.747403 -4.986279  0.953935   \n",
              "1 -2.131157 -6.876417 -1.359395  0.326401 -5.420016 -2.109968 -1.757634   \n",
              "2 -5.853725 -3.724773 -6.627182 -5.117002 -6.072106 -0.994653 -1.617120   \n",
              "3 -1.898315 -2.046493 -7.176277 -3.293508  4.209121  0.121835 -5.407063   \n",
              "4 -1.952340  0.810868  6.238493  6.555839  7.535542  2.849219  2.616843   \n",
              "\n",
              "     mfcc19    mfcc20  LABEL  \n",
              "0 -5.013138 -6.779060      0  \n",
              "1 -9.537907 -8.494421      0  \n",
              "2 -3.922354 -7.033001      0  \n",
              "3 -3.654926 -3.274857      0  \n",
              "4 -1.793357 -5.060998      0  \n",
              "\n",
              "[5 rows x 27 columns]"
            ]
          },
          "execution_count": 7,
          "metadata": {},
          "output_type": "execute_result"
        }
      ],
      "source": [
        "audio_data.head()"
      ]
    },
    {
      "cell_type": "code",
      "execution_count": null,
      "metadata": {
        "id": "zm2Bl1asvamz"
      },
      "outputs": [],
      "source": [
        "y = audio_data['LABEL']\n",
        "X = audio_data.drop('LABEL', axis = 1)"
      ]
    },
    {
      "cell_type": "code",
      "execution_count": null,
      "metadata": {
        "id": "3Ln9RJYL5ZFi"
      },
      "outputs": [],
      "source": [
        "X = X.values\n",
        "y = y.values"
      ]
    },
    {
      "cell_type": "code",
      "execution_count": null,
      "metadata": {
        "id": "ke9cKzlt8-7P"
      },
      "outputs": [],
      "source": [
        "X_train, X_test, y_train, y_test = train_test_split(X, y, test_size=0.2, shuffle = True ,random_state=42)\n"
      ]
    },
    {
      "cell_type": "code",
      "execution_count": null,
      "metadata": {
        "id": "w6KP2FwOLrax"
      },
      "outputs": [],
      "source": [
        "X_reshaped = np.zeros((X_train.shape[0], 17, 10))\n",
        "\n",
        "for i in range(17):\n",
        "    X_reshaped[:, i, :] = X_train[:, i:i + 10]\n",
        "\n",
        "y_reshaped = np.reshape(y_train, (y_train.shape[0], 1))\n",
        "\n",
        "X_train = X_reshaped\n",
        "y_train = y_reshaped\n",
        "\n"
      ]
    },
    {
      "cell_type": "code",
      "execution_count": null,
      "metadata": {
        "id": "X2Lb24PKnZn0"
      },
      "outputs": [],
      "source": [
        "X_test_reshaped = np.zeros((X_test.shape[0], 17, 10))\n",
        "\n",
        "for i in range(17):\n",
        "    X_test_reshaped[:, i, :] = X_test[:, i:i + 10]\n",
        "\n",
        "y_test_reshaped = np.reshape(y_test, (y_test.shape[0], 1))\n",
        "\n",
        "X_test = X_test_reshaped\n",
        "y_test = y_test_reshaped"
      ]
    },
    {
      "cell_type": "code",
      "execution_count": null,
      "metadata": {
        "colab": {
          "base_uri": "https://localhost:8080/"
        },
        "id": "rVP-NJ15CQxI",
        "outputId": "6d741ba3-f835-4a40-9a22-a605620d4880"
      },
      "outputs": [
        {
          "name": "stdout",
          "output_type": "stream",
          "text": [
            "(9422, 17, 10)\n",
            "(9422, 1)\n"
          ]
        }
      ],
      "source": [
        "print(X_train.shape)\n",
        "print(y_train.shape)\n"
      ]
    },
    {
      "cell_type": "markdown",
      "metadata": {
        "id": "nbKVHKsJ_NqT"
      },
      "source": [
        "**LSTM Model**"
      ]
    },
    {
      "cell_type": "code",
      "execution_count": null,
      "metadata": {
        "id": "1MQpHC6C_MvG"
      },
      "outputs": [],
      "source": [
        "from tensorflow.keras.models import Sequential\n",
        "from tensorflow.keras.layers import Dense, Dropout, LSTM\n",
        "from tensorflow.keras import optimizers\n",
        "from tensorflow.keras.losses import BinaryCrossentropy"
      ]
    },
    {
      "cell_type": "code",
      "execution_count": null,
      "metadata": {
        "colab": {
          "base_uri": "https://localhost:8080/"
        },
        "id": "myzNZ33ANzSA",
        "outputId": "66b32f9b-0730-4095-f7fb-2d46908a9c68"
      },
      "outputs": [
        {
          "name": "stdout",
          "output_type": "stream",
          "text": [
            "Model: \"sequential\"\n",
            "_________________________________________________________________\n",
            " Layer (type)                Output Shape              Param #   \n",
            "=================================================================\n",
            " lstm (LSTM)                 (None, 17, 64)            19200     \n",
            "                                                                 \n",
            " lstm_1 (LSTM)               (None, 64)                33024     \n",
            "                                                                 \n",
            " dense (Dense)               (None, 64)                4160      \n",
            "                                                                 \n",
            " dropout (Dropout)           (None, 64)                0         \n",
            "                                                                 \n",
            " dense_1 (Dense)             (None, 1)                 65        \n",
            "                                                                 \n",
            "=================================================================\n",
            "Total params: 56449 (220.50 KB)\n",
            "Trainable params: 56449 (220.50 KB)\n",
            "Non-trainable params: 0 (0.00 Byte)\n",
            "_________________________________________________________________\n"
          ]
        }
      ],
      "source": [
        "model = Sequential()\n",
        "\n",
        "model.add(LSTM(64, input_shape=(X_train.shape[1], X_train.shape[2]), return_sequences=True))\n",
        "model.add(LSTM(64))\n",
        "\n",
        "model.add(Dense(64, activation = 'relu'))\n",
        "model.add(Dropout(0.3))\n",
        "\n",
        "model.add(Dense(1, activation = 'sigmoid'))\n",
        "\n",
        "\n",
        "\n",
        "optimizer = optimizers.Adam(learning_rate=0.0001)\n",
        "model.compile(optimizer=optimizer, loss = BinaryCrossentropy(), metrics=['accuracy'])\n",
        "model.summary()"
      ]
    },
    {
      "cell_type": "code",
      "execution_count": null,
      "metadata": {
        "colab": {
          "base_uri": "https://localhost:8080/"
        },
        "id": "d6mmWXkp1HFs",
        "outputId": "a9cd3a5a-b21b-4a08-a782-15e4bb4abb82"
      },
      "outputs": [
        {
          "name": "stdout",
          "output_type": "stream",
          "text": [
            "Epoch 1/20\n",
            "295/295 [==============================] - 6s 22ms/step - loss: 0.0089 - accuracy: 0.9971\n",
            "Epoch 2/20\n",
            "295/295 [==============================] - 8s 26ms/step - loss: 0.0070 - accuracy: 0.9976\n",
            "Epoch 3/20\n",
            "295/295 [==============================] - 6s 20ms/step - loss: 0.0033 - accuracy: 0.9990\n",
            "Epoch 4/20\n",
            "295/295 [==============================] - 8s 27ms/step - loss: 0.0093 - accuracy: 0.9964\n",
            "Epoch 5/20\n",
            "295/295 [==============================] - 6s 20ms/step - loss: 0.0064 - accuracy: 0.9978\n",
            "Epoch 6/20\n",
            "295/295 [==============================] - 7s 24ms/step - loss: 0.0028 - accuracy: 0.9993\n",
            "Epoch 7/20\n",
            "295/295 [==============================] - 7s 22ms/step - loss: 0.0018 - accuracy: 0.9996\n",
            "Epoch 8/20\n",
            "295/295 [==============================] - 6s 19ms/step - loss: 0.0027 - accuracy: 0.9993\n",
            "Epoch 9/20\n",
            "295/295 [==============================] - 8s 26ms/step - loss: 0.0045 - accuracy: 0.9986\n",
            "Epoch 10/20\n",
            "295/295 [==============================] - 6s 19ms/step - loss: 0.0095 - accuracy: 0.9971\n",
            "Epoch 11/20\n",
            "295/295 [==============================] - 8s 27ms/step - loss: 0.0059 - accuracy: 0.9981\n",
            "Epoch 12/20\n",
            "295/295 [==============================] - 6s 19ms/step - loss: 0.0033 - accuracy: 0.9993\n",
            "Epoch 13/20\n",
            "295/295 [==============================] - 6s 22ms/step - loss: 0.0012 - accuracy: 0.9999\n",
            "Epoch 14/20\n",
            "295/295 [==============================] - 7s 24ms/step - loss: 6.1270e-04 - accuracy: 1.0000\n",
            "Epoch 15/20\n",
            "295/295 [==============================] - 6s 19ms/step - loss: 0.0028 - accuracy: 0.9988\n",
            "Epoch 16/20\n",
            "295/295 [==============================] - 8s 26ms/step - loss: 0.0040 - accuracy: 0.9984\n",
            "Epoch 17/20\n",
            "295/295 [==============================] - 6s 19ms/step - loss: 0.0013 - accuracy: 0.9999\n",
            "Epoch 18/20\n",
            "295/295 [==============================] - 7s 24ms/step - loss: 0.0092 - accuracy: 0.9964\n",
            "Epoch 19/20\n",
            "295/295 [==============================] - 6s 21ms/step - loss: 0.0015 - accuracy: 0.9995\n",
            "Epoch 20/20\n",
            "295/295 [==============================] - 6s 19ms/step - loss: 4.8122e-04 - accuracy: 1.0000\n"
          ]
        },
        {
          "data": {
            "text/plain": [
              "<keras.src.callbacks.History at 0x7b524fe22530>"
            ]
          },
          "execution_count": 18,
          "metadata": {},
          "output_type": "execute_result"
        }
      ],
      "source": [
        "model.fit(X_train, y_train, batch_size=32, epochs=20)"
      ]
    },
    {
      "cell_type": "code",
      "execution_count": null,
      "metadata": {
        "colab": {
          "base_uri": "https://localhost:8080/"
        },
        "id": "gPh_a8P4VYsO",
        "outputId": "9f0f93d9-170a-4697-f6cb-5ac81c141bac"
      },
      "outputs": [
        {
          "name": "stdout",
          "output_type": "stream",
          "text": [
            "74/74 [==============================] - 1s 7ms/step - loss: 0.0670 - accuracy: 0.9843\n",
            "Test Loss: 0.06704764068126678\n",
            "Test Accuracy: 0.9842954277992249\n"
          ]
        }
      ],
      "source": [
        "test_loss, test_acc = model.evaluate(X_test, y_test)\n",
        "print(\"Test Loss:\", test_loss)\n",
        "print(\"Test Accuracy:\", test_acc)"
      ]
    }
  ],
  "metadata": {
    "colab": {
      "provenance": []
    },
    "kernelspec": {
      "display_name": "Python 3",
      "name": "python3"
    },
    "language_info": {
      "name": "python"
    }
  },
  "nbformat": 4,
  "nbformat_minor": 0
}

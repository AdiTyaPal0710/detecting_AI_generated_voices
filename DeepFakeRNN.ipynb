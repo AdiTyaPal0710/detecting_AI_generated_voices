{
  "nbformat": 4,
  "nbformat_minor": 0,
  "metadata": {
    "colab": {
      "provenance": []
    },
    "kernelspec": {
      "name": "python3",
      "display_name": "Python 3"
    },
    "language_info": {
      "name": "python"
    }
  },
  "cells": [
    {
      "cell_type": "code",
      "source": [
        "import numpy as np\n",
        "import pandas as pd\n",
        "from sklearn.model_selection import train_test_split\n",
        "from sklearn.preprocessing import LabelEncoder\n",
        "from sklearn.metrics import accuracy_score\n",
        "import tensorflow as tf\n",
        "from tensorflow.keras.models import Sequential\n",
        "from tensorflow.keras.layers import SimpleRNN, Dense, Dropout, Flatten\n",
        "from tensorflow.keras.optimizers import Adam"
      ],
      "metadata": {
        "id": "DruTQA28OEAe"
      },
      "execution_count": null,
      "outputs": []
    },
    {
      "cell_type": "code",
      "source": [
        "from google.colab import drive\n",
        "drive.mount('/content/drive')"
      ],
      "metadata": {
        "colab": {
          "base_uri": "https://localhost:8080/"
        },
        "id": "75HJ-RW7OeKH",
        "outputId": "902caa32-3250-48b1-f073-562c5130353a"
      },
      "execution_count": null,
      "outputs": [
        {
          "output_type": "stream",
          "name": "stdout",
          "text": [
            "Mounted at /content/drive\n"
          ]
        }
      ]
    },
    {
      "cell_type": "code",
      "source": [
        "# Load the dataset\n",
        "csv_output_path = 'drive/MyDrive/KAGGLE/DATASET-balanced.csv'\n",
        "dataset = pd.read_csv(csv_output_path)\n",
        "\n",
        "# Encode the labels\n",
        "label_encoder = LabelEncoder()\n",
        "dataset['LABEL'] = label_encoder.fit_transform(dataset['LABEL'])"
      ],
      "metadata": {
        "id": "aHpBYAvnOoUE"
      },
      "execution_count": null,
      "outputs": []
    },
    {
      "cell_type": "code",
      "source": [
        "# Split the dataset into features (X) and labels (y)\n",
        "X = dataset.iloc[:, :-2].values  # Exclude 'origin_sample' and 'LABEL'\n",
        "y = dataset['LABEL'].values\n",
        "\n",
        "# Split the dataset into training and testing sets\n",
        "X_train, X_test, y_train, y_test = train_test_split(X, y, test_size=0.2, random_state=42)"
      ],
      "metadata": {
        "id": "AgCAryrZOvF6"
      },
      "execution_count": null,
      "outputs": []
    },
    {
      "cell_type": "code",
      "source": [
        "# Scale the features\n",
        "from sklearn.preprocessing import MinMaxScaler\n",
        "scaler = MinMaxScaler()\n",
        "X_train_scaled = scaler.fit_transform(X_train.reshape(X_train.shape[0], -1))\n",
        "X_test_scaled = scaler.transform(X_test.reshape(X_test.shape[0], -1))\n",
        "X_train_scaled = X_train_scaled.reshape(X_train.shape)\n",
        "X_test_scaled = X_test_scaled.reshape(X_test.shape)\n",
        "\n",
        "# Reshape the features to match the input shape expected by an RNN\n",
        "X_train_scaled = X_train_scaled.reshape(X_train_scaled.shape[0], X_train_scaled.shape[1], 1)\n",
        "X_test_scaled = X_test_scaled.reshape(X_test_scaled.shape[0], X_test_scaled.shape[1], 1)"
      ],
      "metadata": {
        "id": "QydbvktJPBB0"
      },
      "execution_count": null,
      "outputs": []
    },
    {
      "cell_type": "code",
      "execution_count": null,
      "metadata": {
        "id": "mT29WA8_N_Wa"
      },
      "outputs": [],
      "source": [
        "# Create the RNN model\n",
        "model = Sequential([\n",
        "    SimpleRNN(128, activation='relu', input_shape=(X_train.shape[1], 1)),\n",
        "    Flatten(),\n",
        "    Dense(64, activation='relu'),\n",
        "    Dropout(0.5),\n",
        "    Dense(1, activation='sigmoid')\n",
        "])\n"
      ]
    },
    {
      "cell_type": "code",
      "source": [
        "# Compile the model\n",
        "model.compile(optimizer=Adam(learning_rate=1e-4), loss='binary_crossentropy', metrics=['accuracy'])"
      ],
      "metadata": {
        "id": "RoqIBOqTPJ80"
      },
      "execution_count": null,
      "outputs": []
    },
    {
      "cell_type": "code",
      "source": [
        "# Train the model\n",
        "model.fit(X_train, y_train, epochs=10, batch_size=32, validation_data=(X_test, y_test))"
      ],
      "metadata": {
        "colab": {
          "base_uri": "https://localhost:8080/"
        },
        "id": "f9iKxAW0PPqc",
        "outputId": "23c60efe-8c8a-4814-961a-65ac1fe078a9"
      },
      "execution_count": null,
      "outputs": [
        {
          "output_type": "stream",
          "name": "stdout",
          "text": [
            "Epoch 1/10\n",
            "295/295 [==============================] - 2s 6ms/step - loss: 0.1176 - accuracy: 0.9566 - val_loss: 0.0961 - val_accuracy: 0.9643\n",
            "Epoch 2/10\n",
            "295/295 [==============================] - 2s 5ms/step - loss: 0.1017 - accuracy: 0.9637 - val_loss: 0.1024 - val_accuracy: 0.9690\n",
            "Epoch 3/10\n",
            "295/295 [==============================] - 4s 13ms/step - loss: 0.1053 - accuracy: 0.9614 - val_loss: 0.0969 - val_accuracy: 0.9652\n",
            "Epoch 4/10\n",
            "295/295 [==============================] - 3s 10ms/step - loss: 0.0959 - accuracy: 0.9660 - val_loss: 0.0969 - val_accuracy: 0.9639\n",
            "Epoch 5/10\n",
            "295/295 [==============================] - 3s 11ms/step - loss: 0.0915 - accuracy: 0.9699 - val_loss: 0.1083 - val_accuracy: 0.9618\n",
            "Epoch 6/10\n",
            "295/295 [==============================] - 3s 11ms/step - loss: 0.0855 - accuracy: 0.9687 - val_loss: 0.1130 - val_accuracy: 0.9614\n",
            "Epoch 7/10\n",
            "295/295 [==============================] - 2s 7ms/step - loss: 0.0854 - accuracy: 0.9687 - val_loss: 0.0827 - val_accuracy: 0.9720\n",
            "Epoch 8/10\n",
            "295/295 [==============================] - 2s 7ms/step - loss: 0.0851 - accuracy: 0.9720 - val_loss: 0.0930 - val_accuracy: 0.9673\n",
            "Epoch 9/10\n",
            "295/295 [==============================] - 2s 5ms/step - loss: 0.0760 - accuracy: 0.9713 - val_loss: 0.0930 - val_accuracy: 0.9643\n",
            "Epoch 10/10\n",
            "295/295 [==============================] - 2s 5ms/step - loss: 0.0724 - accuracy: 0.9754 - val_loss: 0.0796 - val_accuracy: 0.9754\n"
          ]
        },
        {
          "output_type": "execute_result",
          "data": {
            "text/plain": [
              "<keras.src.callbacks.History at 0x78c01f5f04c0>"
            ]
          },
          "metadata": {},
          "execution_count": 15
        }
      ]
    },
    {
      "cell_type": "code",
      "source": [
        "# Evaluate the model\n",
        "y_pred = np.round(model.predict(X_test))\n",
        "accuracy = accuracy_score(y_test, y_pred)\n",
        "print(f'Test Accuracy: {accuracy * 100:.2f}%')"
      ],
      "metadata": {
        "colab": {
          "base_uri": "https://localhost:8080/"
        },
        "id": "JMCK3u3zPWFS",
        "outputId": "8922a3af-6aa8-4ce6-c695-35c06c088262"
      },
      "execution_count": null,
      "outputs": [
        {
          "output_type": "stream",
          "name": "stdout",
          "text": [
            "74/74 [==============================] - 0s 2ms/step\n",
            "Test Accuracy: 97.54%\n"
          ]
        }
      ]
    },
    {
      "cell_type": "code",
      "source": [],
      "metadata": {
        "id": "CHtPvqnvPcfi"
      },
      "execution_count": null,
      "outputs": []
    }
  ]
}